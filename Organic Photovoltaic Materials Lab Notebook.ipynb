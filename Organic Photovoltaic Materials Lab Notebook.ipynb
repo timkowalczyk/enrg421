{
 "cells": [
  {
   "cell_type": "markdown",
   "metadata": {},
   "source": [
    "## Organic Photovoltaic Materials Lab Notebook"
   ]
  },
  {
   "cell_type": "markdown",
   "metadata": {},
   "source": [
    "## ENRG 421, Spring 2025"
   ]
  },
  {
   "cell_type": "markdown",
   "metadata": {},
   "source": [
    "I. <font color=green>***Introduction***<font color=black>"
   ]
  },
  {
   "cell_type": "markdown",
   "metadata": {},
   "source": [
    "<font color=purple>(Replace *this cell* with your own introduction that provides:\n",
    "- some *background information* about organic photovoltaic materials;\n",
    "- an overview of the *Frontiers* article that forms the basis of this study;\n",
    "- a summary of goals for this lab)<font color=black>"
   ]
  },
  {
   "cell_type": "markdown",
   "metadata": {},
   "source": [
    "II. <font color=green>***OPV donor material***<font color=black>"
   ]
  },
  {
   "cell_type": "markdown",
   "metadata": {},
   "source": [
    "<font color=purple>(Replace this cell with an image of your molecule and a brief description of how you set it up in WebMO. See [here](https://github.com/adam-p/markdown-here/wiki/Markdown-Cheatsheet#Images) for tips on adding an image in Markdown. You'll need to upload the images in your notebook to Canvas along with the notebook itself, *or* upload a .zip file containing the notebook and all associated images)<font color=black>"
   ]
  },
  {
   "cell_type": "markdown",
   "metadata": {},
   "source": [
    "III. <font color=green>***Computational methods***<font color=black>"
   ]
  },
  {
   "cell_type": "markdown",
   "metadata": {},
   "source": [
    "<font color=purple>(This section is already written for you, so keep the following text; but you should delete this explanatory note in purple)<br><br><font color=black> Energy calculations and geometry optimization were performed via density functional theory (DFT) with the PBE0 exchange-correlation functional and def2-SVP basis set. The band gap for the donor material was calculated directly from the difference in energy between the lowest unoccupied molecular orbital (LUMO) and highest occupied molecular orbital (HOMO), and the result was converted from atomic units (Hartree) to electron-volts (eV).\n",
    "\n",
    "UV/Vis spectroscopic analysis was performed with linear-response time-dependent DFT using the same exchange-correlation functional and basis set as the ground-state calculations. Results included the lowest eight eigenvalues of singlet symmetry, and the resulting excitation energies and oscillator strengths were used to generate the simulated UV/Vis spectrum."
   ]
  },
  {
   "cell_type": "markdown",
   "metadata": {},
   "source": [
    "IV. <font color=green>***Results***<font color=black>"
   ]
  },
  {
   "cell_type": "markdown",
   "metadata": {},
   "source": [
    "IV.a *Band gap*"
   ]
  },
  {
   "cell_type": "markdown",
   "metadata": {},
   "source": [
    "<font color=purple>(Briefly summarize and discuss the result of your band gap calculation. Please show the calculation as code in your notebook, and also provide a figure that illustrates the HOMO and LUMO and their energies on an energy axis; see [here](https://s3-us-west-2.amazonaws.com/courses-images/wp-content/uploads/sites/3773/2018/11/21135300/OoB6Q.png) for an example of such an image. You can view the orbitals from your calculation by clicking on the image button next to each orbital energy in the results tab in WebMO.)"
   ]
  },
  {
   "cell_type": "markdown",
   "metadata": {},
   "source": [
    "IV.b *UV/Vis spectrum*"
   ]
  },
  {
   "cell_type": "markdown",
   "metadata": {},
   "source": [
    "<font color=purple>(Briefly summarize and discuss the result of your UV/Vis calculation. In your discussion, compare the peaks of the UV/Vis spectrum to the band gap; how close are the peak(s) to the band gap? Please show any calculations as code in your notebook, and also provide a figure that illustrates the UV/Vis spectrum. WebMO will produce such a figure for you by clicking on the magnifying glass icon in the Excited States results section; or you can produce a scatterplot version yourself in this notebook from the excited-state energies ($x$-axis) and intensities ($y$-axis) in the WebMO summary.)"
   ]
  },
  {
   "cell_type": "markdown",
   "metadata": {},
   "source": [
    "V. <font color=green>***Discussion and Conclusion***<font color=black>"
   ]
  },
  {
   "cell_type": "markdown",
   "metadata": {},
   "source": [
    "<font color=purple> (In a few sentences, compare your results with the calculations reported in the article by Chen et al. Discuss the nature of any discrepancies you find in terms of differences in the details of the calculations. Finally, comment on the suitability of your molecule as an OPV donor material based on the results you've computed.)"
   ]
  }
 ],
 "metadata": {
  "kernelspec": {
   "display_name": "Python 3",
   "language": "python",
   "name": "python3"
  },
  "language_info": {
   "codemirror_mode": {
    "name": "ipython",
    "version": 3
   },
   "file_extension": ".py",
   "mimetype": "text/x-python",
   "name": "python",
   "nbconvert_exporter": "python",
   "pygments_lexer": "ipython3",
   "version": "3.7.6"
  }
 },
 "nbformat": 4,
 "nbformat_minor": 4
}
