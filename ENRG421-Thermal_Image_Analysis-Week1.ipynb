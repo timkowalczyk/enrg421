{
  "cells": [
    {
      "cell_type": "markdown",
      "metadata": {
        "id": "79NTbdczxDkE"
      },
      "source": [
        "## Thermal Imaging Analysis, Week 1: Intro to Python"
      ]
    },
    {
      "cell_type": "markdown",
      "metadata": {
        "id": "cMQEkm-vxDkG"
      },
      "source": [
        " ### ENRG 421, Spring 2023"
      ]
    },
    {
      "cell_type": "markdown",
      "metadata": {
        "id": "93-TH_hXxDkI"
      },
      "source": [
        "I. <font color=green>***Introduction***<font color=black>\n",
        "\n",
        "Whether studying the impact of renewables on grid stability or developing new battery chemistries, folks whose work falls under the umbrella of energy science rely on observations and measurements to perform their everyday work. Without these inputs, energy scientists cannot draw conclusions, pose informed new questions, or translate new knowledge into action.\n",
        "\n",
        "Observation and measurement are two sides of the same coin: both concepts refer to **data**: observations tend to be qualitative while measurements tend to be quantitative, but they both refer to collecting data.\n",
        "\n",
        "Once have collected data, how do we draw conclusions from it? You've analyzed data from chemistry and physics labs by pen and paper; using a calculator; and using software solutions such as spreadsheets. These familiar tools are very useful, but they don't fully reflect what the modern data-driven scientific enterprise looks like. Nowadays it is common for energy analysts, data scientists, and other scientists and engineers to adopt or build on open source scientific software using accessible programming languages such as Python and R.\n",
        "\n",
        "We will not be writing any Python \"scripts\" (essentially short programs) from scratch ourselves; this is not course in programming principles or algorithms. Rather, by using, modifying, breaking, and fixing existing code, you will see how accessible programming languages like Python can be used to automate complex data analysis across the sciences. This practice of borrowing code and repurposing it to new contexts is ubiquitous in the applied sciences, including in the energy sector.\n",
        "___"
      ]
    },
    {
      "cell_type": "markdown",
      "metadata": {
        "id": "3MeJHG85xDkJ"
      },
      "source": [
        "\n",
        "II. <font color=green>***Goals***<font color=black>\n",
        "* To gain experience reading and interpreting snippets of real Python code\n",
        "* To gain experience navigating and using a Jupyter notebook to run and edit Python code\n",
        "* To analyze a thermal (IR) image by using and modifying a provided Python script\n",
        "    ___"
      ]
    },
    {
      "cell_type": "markdown",
      "metadata": {
        "id": "K29wmUMUxDkK"
      },
      "source": [
        "III. <font color=green>***About this notebook***<font color=black>\n",
        "\n",
        "This is a Jupyter notebook. It's kind of like a living document that can include any combination of written **text** (like the text you're reading now), Python **code** that serves as input, and outputs produced by running that code. Each little block of code or text is called a **cell**,  and you can insert cells anywhere in the notebook using the *Insert* menu at the top of the notebook.\n",
        "\n",
        "This cell you're reading is a text cell, but Jupyter didn't guess that. It was instructed to interpret this cell as a text cell because I selected **Markdown** in the little drop-down menu below (usually below the *Widgets* menu item) that says **Code** by default. **Markdown** is just a way of formatting text; if you've ever played around with editing a Wiki page or web page, you may have already used some form of markdown."
      ]
    },
    {
      "cell_type": "markdown",
      "metadata": {
        "id": "WB5CnL8sxDkL"
      },
      "source": [
        "<font color=purple>***Try it out for yourself:***<font color=black> To see the raw Markdown that produced a text cell, just double-click on it. Go ahead and edit this cell by adding an exclamation point to the end of this sentence, and then type **[Shift]+[Enter]** (hold down shift and press enter) to \"run\", i.e. to process the cell.\n",
        "    \n",
        "<font color=red>***Please note:***<font color=black> Every time you see \"<font color=purple>***Try it out for yourself***<font color=black>\" or \"<font color=purple>***Questions for reflection***<font color=black>\", you should preserve the edit(s) that you make to this notebook by saving the notebook (**[Ctrl]+S** or click on the Save icon). When you submit your final Jupyter notebook for this lab, I'll be looking to see that these edits are present.\n",
        "___"
      ]
    },
    {
      "cell_type": "markdown",
      "metadata": {
        "id": "wxXBwIRRxDkL"
      },
      "source": [
        "IV. <font color=green>***About Python***<font color=black>\n",
        "\n",
        "Python is considered a \"high-level\" programming language, which sounds intimidating but means just the opposite. High-level means that the language takes care of a lot of the really messy stuff that \"low-level\" languages like C and Fortran require the user to manage, like memory allocation and declaration of variables. This frees up Python users to focus on the data analysis (typically at some small cost in terms of computational efficiency, but that won't be an issue for us in these labs).\n",
        "\n",
        "This week is all about installing the Anaconda package, working with Jupyter notebooks, and getting familiar with some basics of using Python. We're already 2/3 of the way through the list!"
      ]
    },
    {
      "cell_type": "markdown",
      "metadata": {
        "id": "JFTbpGnNxDkL"
      },
      "source": [
        "IV. a. Numerical calculations\n",
        "\n",
        "You can use Python like a simple calculator for addition (+), subtraction (-), multiplication (*), and division (/):"
      ]
    },
    {
      "cell_type": "code",
      "execution_count": null,
      "metadata": {
        "id": "CkJdhC1axDkM",
        "outputId": "ef68e5f2-aabf-4176-cd0a-1a3946136343"
      },
      "outputs": [
        {
          "data": {
            "text/plain": [
              "8"
            ]
          },
          "execution_count": 2,
          "metadata": {},
          "output_type": "execute_result"
        }
      ],
      "source": [
        "4+2+2"
      ]
    },
    {
      "cell_type": "code",
      "execution_count": null,
      "metadata": {
        "id": "gk1Eq-_yxDkN",
        "outputId": "2bcdd28c-ae14-4f4c-a963-89393392db4a"
      },
      "outputs": [
        {
          "data": {
            "text/plain": [
              "8.0"
            ]
          },
          "execution_count": 3,
          "metadata": {},
          "output_type": "execute_result"
        }
      ],
      "source": [
        "4*2/1"
      ]
    },
    {
      "cell_type": "markdown",
      "metadata": {
        "id": "QGGAPX7SxDkO"
      },
      "source": [
        "<font color=purple>***Try it out for yourself:***<font color=black> double-click on the cell above this one and change the calculation to something else. Check that the result is what you expect it to be. Note that the drop-down selector (usually below the \"Widgets\" menu item) says **Code** instead of **Markdown** when you are in a Python code cell."
      ]
    },
    {
      "cell_type": "markdown",
      "metadata": {
        "id": "szHQdKq6xDkO"
      },
      "source": [
        "IV. b. Assigning and using variables\n",
        "\n",
        "Instead of working with raw numbers, it is usually more convenient to store data in variables with names that help us remember what they are and how they are related. For example, if we had a 6 W LED bulb and wanted to know its energy output over a 30-second time interval, instead of just typing 6\\*30 into Python, we can better organize this information with variables, making it much easier for ourselves and others to read and understand:"
      ]
    },
    {
      "cell_type": "code",
      "execution_count": null,
      "metadata": {
        "id": "o-GvJO18xDkP",
        "outputId": "fe5b1704-4288-430a-f8dc-f0b56351fb02"
      },
      "outputs": [
        {
          "name": "stdout",
          "output_type": "stream",
          "text": [
            "180 J\n"
          ]
        }
      ],
      "source": [
        "power = 6   # LED power in Watts\n",
        "time  = 30  # Time interval in seconds\n",
        "energy = power*time\n",
        "units = \"J\"\n",
        "print(energy,units)"
      ]
    },
    {
      "cell_type": "markdown",
      "metadata": {
        "id": "X4zKtNyoxDkP"
      },
      "source": [
        "In this example, we encountered our first Python **function**, the **`print()`** function. This function prints the value(s) of the variable(s) we provide it in the parentheses. Here we provided two variables to the **`print()`** function: the numerical variable `energy` and the variable `units`.\n",
        "\n",
        "Note that the value of `units` isn't a number at all; it's a letter. In Python we can assign letters or words (collectively called **strings**) to variables by placing them in quotes after the equals sign. So in this example `energy` is an integer variable and `units` is a string variable.\n",
        "\n",
        "By the way, the equals sign in Python is also known as the **assignment operator** to emphasize its use in assigning a value to a variable."
      ]
    },
    {
      "cell_type": "markdown",
      "metadata": {
        "id": "VdIliI5-xDkP"
      },
      "source": [
        "<font color=purple>***Try it out for yourself:***<font color=black> In the cell below, modify the example Python script to compute the power of a CFL bulb that emits 420 J of energy in over the same 30-second interval. Go ahead and rearrange the formula, as well as the input to the **`print()`** function."
      ]
    },
    {
      "cell_type": "code",
      "execution_count": null,
      "metadata": {
        "id": "Y815WrG7xDkQ",
        "outputId": "17303837-b2be-4caf-e6e2-bfdc99de2a81"
      },
      "outputs": [
        {
          "name": "stdout",
          "output_type": "stream",
          "text": [
            "180 J\n"
          ]
        }
      ],
      "source": [
        "power = 6   # LED power in Watts\n",
        "time  = 30  # Time interval in seconds\n",
        "energy = power*time\n",
        "units = \"J\"\n",
        "print(energy,units)"
      ]
    },
    {
      "cell_type": "markdown",
      "metadata": {
        "id": "zeokej7GxDkQ"
      },
      "source": [
        "IV. c. Extending our toolkit with Python libraries and modules\n",
        "\n",
        "The real power of Python lies in its global community of users and the collections of functions they have built on top of Python's elementary functions. Collections of functions in Python are known as **modules**, and collections of modules are called **libraries**. The modules and libraries span a dizzying range of capabilities: social media tracking tools, automated recommendation systems, high-frequency stock trading, and high-throughput screening in pharmaceutical research are just a few of the millions of ways people use Python to manage and analyze data.\n",
        "\n",
        "Most scientific computing and data analysis applications in Python take advantage of the **numerical Python** or **`numpy`** library for things like exponential functions and matrices; the **`matplotlib`** library for visualizing and plotting data; and the **`pandas`** library for more complex data structures. We may occasionally make use of other Python libraries as well.\n",
        "\n",
        "To invoke a function from within a Python library, we can ``import`` it from the library. For example, if we try to compute the square root of 2 directly in Python,"
      ]
    },
    {
      "cell_type": "code",
      "execution_count": null,
      "metadata": {
        "id": "yOy-SA8HxDkR",
        "outputId": "6deb877f-8de8-4cc7-c5dc-25836d20c5a5"
      },
      "outputs": [
        {
          "ename": "NameError",
          "evalue": "name 'sqrt' is not defined",
          "output_type": "error",
          "traceback": [
            "\u001b[1;31m---------------------------------------------------------------------------\u001b[0m",
            "\u001b[1;31mNameError\u001b[0m                                 Traceback (most recent call last)",
            "\u001b[1;32m<ipython-input-15-66e338417901>\u001b[0m in \u001b[0;36m<module>\u001b[1;34m\u001b[0m\n\u001b[1;32m----> 1\u001b[1;33m \u001b[0msqrt\u001b[0m\u001b[1;33m(\u001b[0m\u001b[1;36m2\u001b[0m\u001b[1;33m)\u001b[0m\u001b[1;33m\u001b[0m\u001b[1;33m\u001b[0m\u001b[0m\n\u001b[0m",
            "\u001b[1;31mNameError\u001b[0m: name 'sqrt' is not defined"
          ]
        }
      ],
      "source": [
        "sqrt(2)"
      ]
    },
    {
      "cell_type": "markdown",
      "metadata": {
        "id": "SfiOzT8rxDkR"
      },
      "source": [
        "we get an error message telling us that the `sqrt()` function is not defined. Python doesn't natively know how to compute a square root, but the `numpy` library has a `sqrt()` function that we can import:"
      ]
    },
    {
      "cell_type": "code",
      "execution_count": null,
      "metadata": {
        "id": "nCUaniYGxDkR",
        "outputId": "5b971892-6623-44eb-e524-637f0befecfe"
      },
      "outputs": [
        {
          "data": {
            "text/plain": [
              "1.4142135623730951"
            ]
          },
          "execution_count": 16,
          "metadata": {},
          "output_type": "execute_result"
        }
      ],
      "source": [
        "from numpy import sqrt\n",
        "sqrt(2)"
      ]
    },
    {
      "cell_type": "markdown",
      "metadata": {
        "id": "9OsDQeX5xDkR"
      },
      "source": [
        "There is another way that some folks prefer to access functions in a library, and I'd like to share it with you so that you recognize it if/when you come across it. Instead of just importing the desired function, we can import the entire `numpy` library and then call the `sqrt` function from within it by placing a period (`.`) between the name of the library and the name of the function:"
      ]
    },
    {
      "cell_type": "code",
      "execution_count": null,
      "metadata": {
        "id": "Vk4TVj7BxDkR",
        "outputId": "b5637fbf-1503-4e4d-99e1-75da85c6ceee"
      },
      "outputs": [
        {
          "data": {
            "text/plain": [
              "1.4142135623730951"
            ]
          },
          "execution_count": 17,
          "metadata": {},
          "output_type": "execute_result"
        }
      ],
      "source": [
        "import numpy\n",
        "numpy.sqrt(2)"
      ]
    },
    {
      "cell_type": "markdown",
      "metadata": {
        "id": "FHApX6fqxDkR"
      },
      "source": [
        "<font color=purple>***Try it out for yourself:***<font color=black> Recall from ENRG 320 that we can describe the shape of a water or light wave using trigonometric functions like sin and cos. In the cell below, modify the provided example Python script so that it instead computes sin($\\pi$/2). *Hint:* both the `sin()` function and the constant `pi` itself can be imported from `numpy`, or you can just write out the approximate numerical value of $\\pi$."
      ]
    },
    {
      "cell_type": "code",
      "execution_count": null,
      "metadata": {
        "id": "f08cOb8_xDkS",
        "outputId": "261ec66a-e3aa-4c0a-f96d-ef2a8c3bf814"
      },
      "outputs": [
        {
          "data": {
            "text/plain": [
              "1.4142135623730951"
            ]
          },
          "execution_count": 18,
          "metadata": {},
          "output_type": "execute_result"
        }
      ],
      "source": [
        "from numpy import sqrt\n",
        "sqrt(2)"
      ]
    },
    {
      "cell_type": "markdown",
      "metadata": {
        "id": "zM5DQQfrxDkS"
      },
      "source": [
        "IV. d. Plotting and data visualization in Python\n",
        "\n",
        "Finally, let's get familiar with plotting data in Python using the `matplotlib` library. Most of the plotting features of matplotlib are in a module called `pyplot`. As a quick example, let's plot a simple exponential function in matplotlib:"
      ]
    },
    {
      "cell_type": "code",
      "execution_count": null,
      "metadata": {
        "id": "4qkkxYp7xDkS",
        "outputId": "2a347c49-c989-4baa-d2ba-d401fc40a734"
      },
      "outputs": [
        {
          "data": {
            "image/png": "[encoded data removed]",
            "text/plain": [
              "<Figure size 432x288 with 1 Axes>"
            ]
          },
          "metadata": {
            "needs_background": "light"
          },
          "output_type": "display_data"
        }
      ],
      "source": [
        "import matplotlib.pyplot as plt\n",
        "from numpy import linspace, exp\n",
        "\n",
        "x = linspace(0,5,100) # Generates a list of x-values 0, 0.1, 0.2, ... at which to plot data\n",
        "y = exp(x)\n",
        "\n",
        "plt.figure()\n",
        "plt.xlabel('$x$')\n",
        "plt.ylabel('$\\exp(x)$')\n",
        "plt.plot(x,y)\n",
        "plt.show()"
      ]
    },
    {
      "cell_type": "markdown",
      "metadata": {
        "id": "7pCIAnXjxDkT"
      },
      "source": [
        "<font color=purple>***Try it out for yourself:***<font color=black> In the space below, copy/paste and edit the previous code snippet to generate a plot of a **sine wave** representing visible light of wavelength 500 nm. Recall that the wavelength $\\lambda$ is related to the wave vector $k$ in a wave of form $y=\\sin(kx)$ by $\\lambda = \\frac{2\\pi}{k}$. Label your axes with appropriate names and units."
      ]
    },
    {
      "cell_type": "code",
      "execution_count": null,
      "metadata": {
        "id": "U_g47WotxDkT"
      },
      "outputs": [],
      "source": []
    },
    {
      "cell_type": "markdown",
      "metadata": {
        "id": "EqOm8-yfxDkT"
      },
      "source": [
        "<font color=purple>***Questions for reflection:***<font color=black> Please respond to each question in the cell immediately following the question. Please remember to change the cell type to **Markdown** in the drop-down box above and to use **[Shift]+Enter** to run the cell. Save your work with **[Ctrl]+S** or by clicking on the Save icon. Jupyter notebooks do not auto-save by default."
      ]
    },
    {
      "cell_type": "markdown",
      "metadata": {
        "id": "ToQnCAx1xDkT"
      },
      "source": [
        "1. What are some potential *advantages* of a Jupyter notebook over a pen-and-paper notebook for organizing data and performing data analysis?"
      ]
    },
    {
      "cell_type": "code",
      "execution_count": null,
      "metadata": {
        "id": "woYXd6vdxDkT"
      },
      "outputs": [],
      "source": []
    },
    {
      "cell_type": "markdown",
      "metadata": {
        "id": "hRow2GzAxDkU"
      },
      "source": [
        "2. What are some potential *disadvantages* of a Jupyter notebook over a pen-and-paper notebook for organizing data and performing data analysis?"
      ]
    },
    {
      "cell_type": "code",
      "execution_count": null,
      "metadata": {
        "id": "DAa070PQxDkU"
      },
      "outputs": [],
      "source": []
    },
    {
      "cell_type": "markdown",
      "metadata": {
        "id": "2N8fUGzRxDkU"
      },
      "source": [
        "3. What are some of the similarities and differences of organizing and analyzing data in a Jupyter notebook versus an Excel spreadsheet?"
      ]
    },
    {
      "cell_type": "code",
      "execution_count": null,
      "metadata": {
        "id": "SXEVZ43RxDkU"
      },
      "outputs": [],
      "source": []
    },
    {
      "cell_type": "markdown",
      "metadata": {
        "id": "BGi2my_TxDkU"
      },
      "source": [
        "4. **Describe in words** (2-3 sentences) how one could use Python (in a Jupyter notebook like this one) to show visually how the efficiency $\\eta_2$ of the second thermodynamic cycle in a combined-cycle thermal plant with $\\eta_1 = 0.3$ affects the overall combined-cycle efficiency given by $\\eta = \\eta_1 + \\left(1-\\eta_1\\right)\\eta_2$."
      ]
    },
    {
      "cell_type": "code",
      "execution_count": null,
      "metadata": {
        "id": "ekT4lalYxDkV"
      },
      "outputs": [],
      "source": []
    },
    {
      "cell_type": "markdown",
      "metadata": {
        "id": "zXACGFcxxDkV"
      },
      "source": [
        "5. Now **carry out** the instructions you proposed in the previous problem: in the space below, use and modify code snippets from this notebook to show visually how the efficiency $\\eta_2$ of the second thermodynamic cycle in a combined-cycle thermal plant with $\\eta_1 = 0.3$ affects the overall combined-cycle efficiency given by $\\eta = \\eta_1 + \\left(1-\\eta_1\\right)\\eta_2$."
      ]
    },
    {
      "cell_type": "code",
      "execution_count": null,
      "metadata": {
        "id": "SnaG997mxDkV"
      },
      "outputs": [],
      "source": []
    },
    {
      "cell_type": "markdown",
      "metadata": {
        "id": "uV2lDNzUxDkV"
      },
      "source": [
        "___"
      ]
    },
    {
      "cell_type": "markdown",
      "metadata": {
        "id": "E8pR4a2DxDkV"
      },
      "source": [
        "\n",
        "<font color=green>**Congratulations**<font color=black>, you've reached the end of the Week 1 notebook! Please save your progress. When you are ready to submit your work, please **upload** this notebook (the actual .ipynb file) to the Week 1 assignment on Canvas."
      ]
    }
  ],
  "metadata": {
    "kernelspec": {
      "display_name": "Python 3",
      "language": "python",
      "name": "python3"
    },
    "language_info": {
      "codemirror_mode": {
        "name": "ipython",
        "version": 3
      },
      "file_extension": ".py",
      "mimetype": "text/x-python",
      "name": "python",
      "nbconvert_exporter": "python",
      "pygments_lexer": "ipython3",
      "version": "3.7.6"
    },
    "colab": {
      "provenance": []
    }
  },
  "nbformat": 4,
  "nbformat_minor": 0
}